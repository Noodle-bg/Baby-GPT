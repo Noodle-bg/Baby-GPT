{
  "nbformat": 4,
  "nbformat_minor": 0,
  "metadata": {
    "colab": {
      "provenance": [],
      "authorship_tag": "ABX9TyPrx01KBEmPiB4fYkDNxMR+",
      "include_colab_link": true
    },
    "kernelspec": {
      "name": "python3",
      "display_name": "Python 3"
    },
    "language_info": {
      "name": "python"
    }
  },
  "cells": [
    {
      "cell_type": "markdown",
      "metadata": {
        "id": "view-in-github",
        "colab_type": "text"
      },
      "source": [
        "<a href=\"https://colab.research.google.com/github/Noodle-bg/Baby-GPT/blob/main/Baby_GPT.ipynb\" target=\"_parent\"><img src=\"https://colab.research.google.com/assets/colab-badge.svg\" alt=\"Open In Colab\"/></a>"
      ]
    },
    {
      "cell_type": "code",
      "execution_count": 1,
      "metadata": {
        "id": "0YCx1lqJg193"
      },
      "outputs": [],
      "source": [
        "with open('Friends_script.txt','r',encoding='utf-8') as f:\n",
        "  text = f.read()"
      ]
    },
    {
      "cell_type": "code",
      "source": [
        "print(len(text))"
      ],
      "metadata": {
        "colab": {
          "base_uri": "https://localhost:8080/"
        },
        "id": "5NgIRCBnjSn2",
        "outputId": "6455385c-9767-4313-b5c8-72bfd2f2a47a"
      },
      "execution_count": 2,
      "outputs": [
        {
          "output_type": "stream",
          "name": "stdout",
          "text": [
            "4176958\n"
          ]
        }
      ]
    },
    {
      "cell_type": "code",
      "source": [
        "chars = sorted(list(set(text)))\n",
        "vocab_size = len(chars)\n",
        "print(''.join(chars))\n",
        "print(vocab_size)"
      ],
      "metadata": {
        "colab": {
          "base_uri": "https://localhost:8080/"
        },
        "id": "kRuOjkIwjVw_",
        "outputId": "f897bce6-d800-461c-a2db-5a09c4bb2e6e"
      },
      "execution_count": 3,
      "outputs": [
        {
          "output_type": "stream",
          "name": "stdout",
          "text": [
            "\t\n",
            " !\"#$%&'()*+,-./0123456789:;<=>?@ABCDEFGHIJKLMNOPQRSTUVWXYZ[]_`abcdefghijklmnopqrstuvwxyz{|}¦­Éâäçèéíī–—‘’“”…€™�\n",
            "114\n"
          ]
        }
      ]
    },
    {
      "cell_type": "code",
      "source": [
        "stoi = {ch:i for i,ch in enumerate(chars)}\n",
        "itos = {i:ch for i,ch in enumerate(chars)}\n",
        "encode = lambda s: [stoi[c] for c in s]\n",
        "decode = lambda l:''.join([itos[i] for i in l])\n",
        "\n",
        "\n",
        "print(encode(\"Hello world\"))\n",
        "print(decode(encode(\"Hello world\")))"
      ],
      "metadata": {
        "colab": {
          "base_uri": "https://localhost:8080/"
        },
        "id": "tAPrdGHIjw-J",
        "outputId": "4adcf28b-f37e-45f5-9ddd-373745cd6fd0"
      },
      "execution_count": 4,
      "outputs": [
        {
          "output_type": "stream",
          "name": "stdout",
          "text": [
            "[42, 69, 76, 76, 79, 2, 87, 79, 82, 76, 68]\n",
            "Hello world\n"
          ]
        }
      ]
    },
    {
      "cell_type": "code",
      "source": [
        "import torch\n",
        "data = torch.tensor(encode(text),dtype=torch.long)\n",
        "print(data.shape,data.dtype)\n",
        "print(data[:1000])"
      ],
      "metadata": {
        "colab": {
          "base_uri": "https://localhost:8080/"
        },
        "id": "9nQd3bvDkt8_",
        "outputId": "15f2ff16-33dc-4d5a-d36e-62badf6d4a00"
      },
      "execution_count": 5,
      "outputs": [
        {
          "output_type": "stream",
          "name": "stdout",
          "text": [
            "torch.Size([4176958]) torch.int64\n",
            "tensor([47, 49, 48, 43, 37, 35, 28,  2,  2, 54, 72, 69, 82, 69,  9, 83,  2, 78,\n",
            "        79, 84, 72, 73, 78, 71,  2, 84, 79,  2, 84, 69, 76, 76,  3,  2, 42, 69,\n",
            "         9, 83,  2, 74, 85, 83, 84,  2, 83, 79, 77, 69,  2, 71, 85, 89,  2, 43,\n",
            "         2, 87, 79, 82, 75,  2, 87, 73, 84, 72,  3,  1, 44, 49, 39, 59, 28,  2,\n",
            "         2, 37,  9, 77, 79, 78, 14,  2, 89, 79, 85,  9, 82, 69,  2, 71, 79, 73,\n",
            "        78, 71,  2, 79, 85, 84,  2, 87, 73, 84, 72,  2, 84, 72, 69,  2, 71, 85,\n",
            "        89,  3,  2, 54, 72, 69, 82, 69,  9, 83,  2, 71, 79, 84, 84, 65,  2, 66,\n",
            "        69,  2, 83, 79, 77, 69, 84, 72, 73, 78, 71,  2, 87, 82, 79, 78, 71,  2,\n",
            "        87, 73, 84, 72,  2, 72, 73, 77,  3,  1, 37, 42, 35, 48, 38, 46, 39, 52,\n",
            "        28,  2,  2, 53, 79,  2, 68, 79, 69, 83,  2, 72, 69,  2, 72, 65, 86, 69,\n",
            "         2, 65,  2, 72, 85, 77, 80, 33,  2, 35,  2, 72, 85, 77, 80,  2, 65, 78,\n",
            "        68,  2, 65,  2, 72, 65, 73, 82, 80, 73, 69, 67, 69, 33,  1, 50, 42, 49,\n",
            "        39, 36, 39, 28,  2,  2, 57, 65, 73, 84, 14,  2, 68, 79, 69, 83,  2, 72,\n",
            "        69,  2, 69, 65, 84,  2, 67, 72, 65, 76, 75, 33,  1, 50, 42, 49, 39, 36,\n",
            "        39, 28,  2,  2, 44, 85, 83, 84, 14,  2,  9, 67, 65, 85, 83, 69, 14,  2,\n",
            "        43,  2, 68, 79, 78,  9, 84,  2, 87, 65, 78, 84,  2, 72, 69, 82,  2, 84,\n",
            "        79,  2, 71, 79,  2, 84, 72, 82, 79, 85, 71, 72,  2, 87, 72, 65, 84,  2,\n",
            "        43,  2, 87, 69, 78, 84,  2, 84, 72, 82, 79, 85, 71, 72,  2, 87, 73, 84,\n",
            "        72,  2, 37, 65, 82, 76, 15,  2, 79, 72,  3,  1, 47, 49, 48, 43, 37, 35,\n",
            "        28,  2,  2, 49, 75, 65, 89, 14,  2, 69, 86, 69, 82, 89, 66, 79, 68, 89,\n",
            "         2, 82, 69, 76, 65, 88, 16,  2, 54, 72, 73, 83,  2, 73, 83,  2, 78, 79,\n",
            "        84,  2, 69, 86, 69, 78,  2, 65,  2, 68, 65, 84, 69, 16,  2, 43, 84,  9,\n",
            "        83,  2, 74, 85, 83, 84,  2, 84, 87, 79,  2, 80, 69, 79, 80, 76, 69,  2,\n",
            "        71, 79, 73, 78, 71,  2, 79, 85, 84,  2, 84, 79,  2, 68, 73, 78, 78, 69,\n",
            "        82,  2, 65, 78, 68, 15,  2, 78, 79, 84,  2, 72, 65, 86, 73, 78, 71,  2,\n",
            "        83, 12, 88, 16,  1, 37, 42, 35, 48, 38, 46, 39, 52, 28,  2,  2, 53, 79,\n",
            "        85, 78, 68, 83,  2, 76, 73, 75, 69,  2, 65,  2, 68, 65, 84, 69,  2, 84,\n",
            "        79,  2, 77, 69, 16,  1, 37, 42, 35, 48, 38, 46, 39, 52, 28,  2,  2, 35,\n",
            "        76, 82, 73, 71, 72, 84, 14,  2, 83, 79,  2, 43,  9, 77,  2, 66, 65, 67,\n",
            "        75,  2, 73, 78,  2, 72, 73, 71, 72,  2, 83, 67, 72, 79, 79, 76, 14,  2,\n",
            "        43,  9, 77,  2, 83, 84, 65, 78, 68, 73, 78, 71,  2, 73, 78,  2, 84, 72,\n",
            "        69,  2, 77, 73, 68, 68, 76, 69,  2, 79, 70,  2, 84, 72, 69,  2, 67, 65,\n",
            "        70, 69, 84, 69, 82, 73, 65, 14,  2, 65, 78, 68,  2, 43,  2, 82, 69, 65,\n",
            "        76, 73, 83, 69,  2, 43,  2, 65, 77,  2, 84, 79, 84, 65, 76, 76, 89,  2,\n",
            "        78, 65, 75, 69, 68, 16,  1, 35, 46, 46, 28,  2,  2, 49, 72, 14,  2, 89,\n",
            "        69, 65, 72, 16,  2, 42, 65, 68,  2, 84, 72, 65, 84,  2, 68, 82, 69, 65,\n",
            "        77, 16,  1, 37, 42, 35, 48, 38, 46, 39, 52, 28,  2,  2, 54, 72, 69, 78,\n",
            "         2, 43,  2, 76, 79, 79, 75,  2, 68, 79, 87, 78, 14,  2, 65, 78, 68,  2,\n",
            "        43,  2, 82, 69, 65, 76, 73, 83, 69,  2, 84, 72, 69, 82, 69,  9, 83,  2,\n",
            "        65,  2, 80, 72, 79, 78, 69, 16, 16, 16,  2, 84, 72, 69, 82, 69, 16,  1,\n",
            "        44, 49, 39, 59, 28,  2,  2, 43, 78, 83, 84, 69, 65, 68,  2, 79, 70, 16,\n",
            "        16, 16, 33,  1, 37, 42, 35, 48, 38, 46, 39, 52, 28,  2,  2, 54, 72, 65,\n",
            "        84,  9, 83,  2, 82, 73, 71, 72, 84, 16,  1, 44, 49, 39, 59, 28,  2,  2,\n",
            "        48, 69, 86, 69, 82,  2, 72, 65, 68,  2, 84, 72, 65, 84,  2, 68, 82, 69,\n",
            "        65, 77, 16,  1, 50, 42, 49, 39, 36, 39, 28,  2,  2, 48, 79, 16,  1, 37,\n",
            "        42, 35, 48, 38, 46, 39, 52, 28,  2,  2, 35, 76, 76,  2, 79, 70,  2, 65,\n",
            "         2, 83, 85, 68, 68, 69, 78, 14,  2, 84, 72, 69,  2, 80, 72, 79, 78, 69,\n",
            "         2, 83, 84, 65, 82, 84, 83,  2, 84, 79,  2, 82, 73, 78, 71, 16,  2, 35,\n",
            "        78, 68,  2, 73, 84,  2, 84, 85, 82, 78, 83,  2, 79, 85, 84,  2, 73, 84,\n",
            "         9, 83,  2, 77, 89,  2, 77, 79, 84, 72, 69, 82, 14,  2, 87, 72, 73, 67,\n",
            "        72,  2, 73, 83,  2, 86, 69, 82, 89,  2, 87, 69, 73, 82, 68, 14,  2, 66,\n",
            "        69, 67, 65, 85, 83, 69, 15,  2, 83, 72, 69,  2, 78, 69, 86, 69, 82,  2,\n",
            "        67, 65, 76, 76, 83,  2, 77, 69,  3,  1, 52, 49, 53, 53, 28,  2,  2, 10,\n",
            "        47, 49, 52, 54, 43, 40, 43, 39, 38, 11,  2, 42, 73, 16,  1, 44, 49, 39,\n",
            "        59, 28,  2,  2, 54, 72, 73, 83,  2, 71, 85, 89,  2, 83, 65, 89, 83,  2,\n",
            "        72, 69, 76, 76, 79, 14,  2, 43,  2, 87])\n"
          ]
        }
      ]
    },
    {
      "cell_type": "code",
      "source": [
        "n = int(0.9*len(data))\n",
        "train_data=data[:n]\n",
        "val_data = data[n:]"
      ],
      "metadata": {
        "id": "MqGxkS15lEDt"
      },
      "execution_count": 7,
      "outputs": []
    },
    {
      "cell_type": "code",
      "source": [
        "torch.manual_seed(42)\n",
        "batch_size = 4 # How much parallel computation happens at a time\n",
        "block_size = 8 # Context length\n",
        "\n",
        "def get_batch(split):\n",
        "  data = train_data if split == 'train' else val_data\n",
        "  ix = torch.randint(len(data)-block_size,(batch_size,))\n",
        "  x = torch.stack([data[i:i+block_size]for i in ix])\n",
        "  y= torch.stack([data[i+1:i+block_size+1]for i in ix])\n",
        "  return x,y\n"
      ],
      "metadata": {
        "id": "B3F08KEdlhRt"
      },
      "execution_count": 10,
      "outputs": []
    },
    {
      "cell_type": "code",
      "source": [
        "xb,yb = get_batch('train')\n",
        "print(xb)"
      ],
      "metadata": {
        "colab": {
          "base_uri": "https://localhost:8080/"
        },
        "id": "1Ww3Ub37pZI5",
        "outputId": "24b8bfb9-01c5-45e8-d7f3-e05c540fb1e2"
      },
      "execution_count": 11,
      "outputs": [
        {
          "output_type": "stream",
          "name": "stdout",
          "text": [
            "tensor([[89,  2, 65, 82, 69,  2, 71, 79],\n",
            "        [ 2,  2, 47, 69, 33,  2, 43,  9],\n",
            "        [83,  2, 71, 79,  2, 84, 79,  2],\n",
            "        [54, 79,  2, 52, 65, 67, 72, 69]])\n"
          ]
        }
      ]
    },
    {
      "cell_type": "code",
      "source": [
        "import torch\n",
        "import torch.nn as nn\n",
        "from torch.nn import functional as F\n",
        "\n",
        "torch.manual_seed(42)\n",
        "\n",
        "class BigramLanguageModel(nn.Module):\n",
        "  def __init__(self,vocab_size):\n",
        "    super().__init__()\n",
        "    self.token_embedding_table = nn.Embedding(vocab_size,vocab_size)\n",
        "\n",
        "\n",
        "  def forward(self,idx,targets=None):\n",
        "    logits = self.token_embedding_table(idx)\n",
        "    if targets == None:\n",
        "      loss = None\n",
        "    else:\n",
        "      B, T,C = logits.shape\n",
        "      logits = logits.view(B*T,C)\n",
        "      targets = targets.view(B*T)\n",
        "      loss = F.cross_entropy(logits,targets)\n",
        "    return logits,loss\n",
        "\n",
        "\n",
        "\n",
        "  def generate(self,idx,max_new_tokens):\n",
        "    for _ in range(max_new_tokens):\n",
        "      logits,loss = self(idx)\n",
        "      # Focus only on the last time step\n",
        "      logits = logits[:,-1,:] # Becomes (B,C)\n",
        "      probs = F.softmax(logits,dim = -1) # (B,C)\n",
        "      idx_next = torch.multinomial(probs,num_samples = 1) # (B,1)\n",
        "      idx = torch.cat((idx,idx_next),dim = 1) #(B,T+1)\n",
        "    return idx\n",
        "\n",
        "\n",
        "m = BigramLanguageModel(vocab_size)\n",
        "logits , loss = m(xb,yb)\n",
        "print(logits.shape)\n",
        "print(loss)\n",
        "\n",
        "\n",
        "print(decode(m.generate(torch.zeros((1,1),dtype = torch.long),max_new_tokens = 100)[0].tolist()))"
      ],
      "metadata": {
        "colab": {
          "base_uri": "https://localhost:8080/"
        },
        "id": "reUZmqlfppiw",
        "outputId": "d1eafe8d-e776-4573-a215-cf49d2762ecf"
      },
      "execution_count": 15,
      "outputs": [
        {
          "output_type": "stream",
          "name": "stdout",
          "text": [
            "torch.Size([32, 114])\n",
            "tensor(5.0856, grad_fn=<NllLossBackward0>)\n",
            "\t.>­¦IYyY­|¦īw2”VK5P;JNBfNkA`OIWn|â)=1‘\téè1[wíä`rxoéèT?­Tj5Lä<\t­!:’yI¦R’y W?i€€[èī™JMg”H�q5!1D.ävéçtl\n"
          ]
        }
      ]
    },
    {
      "cell_type": "code",
      "source": [
        "optimizer = torch.optim.AdamW(m.parameters(),lr=1e-3)"
      ],
      "metadata": {
        "id": "hcTHYBCtrLFj"
      },
      "execution_count": 16,
      "outputs": []
    },
    {
      "cell_type": "code",
      "source": [
        "batch_size = 32\n",
        "for steps in range(10000):\n",
        "  xb,yb = get_batch('train')\n",
        "  logits , loss= m(xb,yb)\n",
        "  optimizer.zero_grad(set_to_none = True)\n",
        "  loss.backward()\n",
        "  optimizer.step()\n",
        "print(loss.item())"
      ],
      "metadata": {
        "colab": {
          "base_uri": "https://localhost:8080/"
        },
        "id": "POR7hpagvuF6",
        "outputId": "cf31aade-c4e2-4fa1-b32e-01a2da07ecfa"
      },
      "execution_count": 22,
      "outputs": [
        {
          "output_type": "stream",
          "name": "stdout",
          "text": [
            "2.3554248809814453\n"
          ]
        }
      ]
    },
    {
      "cell_type": "code",
      "source": [
        "print(decode(m.generate(torch.zeros((1,1),dtype = torch.long),max_new_tokens = 100)[0].tolist()))"
      ],
      "metadata": {
        "colab": {
          "base_uri": "https://localhost:8080/"
        },
        "id": "GCMurj-SwNL0",
        "outputId": "d8d252e1-eee8-42b3-80e3-1a90d8d3026d"
      },
      "execution_count": 23,
      "outputs": [
        {
          "output_type": "stream",
          "name": "stdout",
          "text": [
            "\t(ly! h!!\n",
            "ROoish! V(le ce g HUNICHE:    no see ICahe NOknd dou i, GEBEYovo   s.\n",
            "JOhes ti, dere sthahe\n"
          ]
        }
      ]
    },
    {
      "cell_type": "code",
      "source": [
        ""
      ],
      "metadata": {
        "id": "-3Qb8V7uwn2Z"
      },
      "execution_count": null,
      "outputs": []
    }
  ]
}